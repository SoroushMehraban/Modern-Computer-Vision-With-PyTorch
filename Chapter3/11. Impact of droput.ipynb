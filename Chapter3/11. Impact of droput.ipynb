{
 "cells": [
  {
   "cell_type": "code",
   "execution_count": 14,
   "metadata": {},
   "outputs": [],
   "source": [
    "from torchvision import datasets\n",
    "from torch.utils.data import Dataset, DataLoader\n",
    "from torch.optim import SGD, Adam\n",
    "import matplotlib.pyplot as plt\n",
    "import torch.nn as nn\n",
    "import numpy as np\n",
    "import torch"
   ]
  },
  {
   "cell_type": "markdown",
   "metadata": {},
   "source": [
    "# Global Variables"
   ]
  },
  {
   "cell_type": "code",
   "execution_count": 2,
   "metadata": {},
   "outputs": [],
   "source": [
    "device = 'cuda' if torch.cuda.is_available() else 'cpu'\n",
    "data_folder = 'dataset/'"
   ]
  },
  {
   "cell_type": "markdown",
   "metadata": {},
   "source": [
    "### Loading Training Data"
   ]
  },
  {
   "cell_type": "code",
   "execution_count": 3,
   "metadata": {},
   "outputs": [
    {
     "name": "stderr",
     "output_type": "stream",
     "text": [
      "C:\\Users\\Asus\\AppData\\Local\\Programs\\Python\\Python38\\lib\\site-packages\\torchvision\\datasets\\mnist.py:498: UserWarning: The given NumPy array is not writeable, and PyTorch does not support non-writeable tensors. This means you can write to the underlying (supposedly non-writeable) NumPy array using the tensor. You may want to copy the array to protect its data or make it writeable before converting it to a tensor. This type of warning will be suppressed for the rest of this program. (Triggered internally at  ..\\torch\\csrc\\utils\\tensor_numpy.cpp:180.)\n",
      "  return torch.from_numpy(parsed.astype(m[2], copy=False)).view(*s)\n"
     ]
    }
   ],
   "source": [
    "tr_fmnist = datasets.FashionMNIST(data_folder, download=True, train=True)\n",
    "tr_images, tr_targets = tr_fmnist.data, tr_fmnist.targets"
   ]
  },
  {
   "cell_type": "markdown",
   "metadata": {},
   "source": [
    "### Loading Test Data"
   ]
  },
  {
   "cell_type": "code",
   "execution_count": 4,
   "metadata": {},
   "outputs": [],
   "source": [
    "val_fmnist = datasets.FashionMNIST(data_folder, download=True, train=False)\n",
    "val_images, val_targets = val_fmnist.data, val_fmnist.targets"
   ]
  },
  {
   "cell_type": "markdown",
   "metadata": {},
   "source": [
    "# Functions And Classes"
   ]
  },
  {
   "cell_type": "code",
   "execution_count": 5,
   "metadata": {},
   "outputs": [],
   "source": [
    "class FMNISTDataset(Dataset):\n",
    "    def __init__(self, x, y):\n",
    "        x = x.float() / 255\n",
    "        x = x.view(-1, 28 * 28)\n",
    "        self.x, self.y = x, y\n",
    "    \n",
    "    def __getitem__(self, ix):\n",
    "        return self.x[ix].to(device), self.y[ix].to(device)\n",
    "    \n",
    "    def __len__(self):\n",
    "        return self.x.shape[0]"
   ]
  },
  {
   "cell_type": "code",
   "execution_count": 6,
   "metadata": {},
   "outputs": [],
   "source": [
    "def get_model():\n",
    "    model = nn.Sequential(\n",
    "                        nn.Dropout(0.25),\n",
    "                        nn.Linear(28 * 28, 1000),\n",
    "                        nn.ReLU(),\n",
    "                        nn.Dropout(0.25),\n",
    "                        nn.Linear(1000, 10)\n",
    "            ).to(device)\n",
    "    loss_function = nn.CrossEntropyLoss()\n",
    "    optimizer = Adam(model.parameters(), lr=1e-3)\n",
    "    \n",
    "    return model, optimizer, loss_function"
   ]
  },
  {
   "cell_type": "markdown",
   "metadata": {},
   "source": [
    "Note that in the preceding code, `Dropout` is specified before linear activation is. This specifies that **a fixed percentage of the weights in the linear activation layer won't be updated**."
   ]
  },
  {
   "cell_type": "code",
   "execution_count": 7,
   "metadata": {},
   "outputs": [],
   "source": [
    "def train_batch(x, y, model, optimizer, loss_function):\n",
    "    model.train()\n",
    "    prediction = model(x)\n",
    "    batch_loss = loss_function(prediction, y)\n",
    "    batch_loss.backward()\n",
    "    optimizer.step()\n",
    "    optimizer.zero_grad()\n",
    "    return batch_loss.item()"
   ]
  },
  {
   "cell_type": "code",
   "execution_count": 8,
   "metadata": {},
   "outputs": [],
   "source": [
    "def accuracy(x, y, model):\n",
    "    model.eval()\n",
    "    with torch.no_grad():\n",
    "        prediction = model(x)\n",
    "    max_values, argmaxes = prediction.max(-1)\n",
    "    is_correct = argmaxes == y\n",
    "    return is_correct.cpu().numpy().tolist()"
   ]
  },
  {
   "cell_type": "code",
   "execution_count": 9,
   "metadata": {},
   "outputs": [],
   "source": [
    "def get_data(batch_size):\n",
    "    train_data = FMNISTDataset(tr_images, tr_targets)\n",
    "    train_dataloader = DataLoader(train_data, batch_size=batch_size, shuffle=True)\n",
    "    \n",
    "    val_data = FMNISTDataset(val_images, val_targets)\n",
    "    val_dataloader = DataLoader(val_data, batch_size=val_images.shape[0], shuffle=False)\n",
    "    \n",
    "    return train_dataloader, val_dataloader"
   ]
  },
  {
   "cell_type": "code",
   "execution_count": 10,
   "metadata": {},
   "outputs": [],
   "source": [
    "@torch.no_grad()\n",
    "def val_loss(x, y, model, loss_function):\n",
    "    model.eval()\n",
    "    prediction = model(x)\n",
    "    val_loss = loss_function(prediction, y)\n",
    "    return val_loss.item()"
   ]
  },
  {
   "cell_type": "markdown",
   "metadata": {},
   "source": [
    "## Considering dropout in learning"
   ]
  },
  {
   "cell_type": "code",
   "execution_count": 11,
   "metadata": {},
   "outputs": [],
   "source": [
    "train_dataloader, val_datalader = get_data(batch_size=32)\n",
    "model, optimizer, loss_function = get_model()"
   ]
  },
  {
   "cell_type": "code",
   "execution_count": 12,
   "metadata": {},
   "outputs": [
    {
     "name": "stdout",
     "output_type": "stream",
     "text": [
      "Current epoch: 0\n",
      "Current epoch: 1\n",
      "Current epoch: 2\n",
      "Current epoch: 3\n",
      "Current epoch: 4\n",
      "Current epoch: 5\n",
      "Current epoch: 6\n",
      "Current epoch: 7\n",
      "Current epoch: 8\n",
      "Current epoch: 9\n",
      "Current epoch: 10\n",
      "Current epoch: 11\n",
      "Current epoch: 12\n",
      "Current epoch: 13\n",
      "Current epoch: 14\n",
      "Current epoch: 15\n",
      "Current epoch: 16\n",
      "Current epoch: 17\n",
      "Current epoch: 18\n",
      "Current epoch: 19\n",
      "Current epoch: 20\n",
      "Current epoch: 21\n",
      "Current epoch: 22\n",
      "Current epoch: 23\n",
      "Current epoch: 24\n",
      "Current epoch: 25\n",
      "Current epoch: 26\n",
      "Current epoch: 27\n",
      "Current epoch: 28\n",
      "Current epoch: 29\n"
     ]
    }
   ],
   "source": [
    "train_losses, train_accuracies = [], []\n",
    "val_losses, val_accuracies = [], []\n",
    "for epoch in range(30):\n",
    "    print(f\"Current epoch: {epoch}\")\n",
    "    \n",
    "    train_epoch_losses, train_epoch_accuracies = [], []\n",
    "    \n",
    "    for batch in train_dataloader:\n",
    "        x, y = batch\n",
    "        batch_loss = train_batch(x, y, model, optimizer, loss_function)\n",
    "        train_epoch_losses.append(batch_loss)\n",
    "    train_epoch_loss = np.mean(train_epoch_losses)\n",
    "    \n",
    "    for batch in train_dataloader:\n",
    "        x, y = batch\n",
    "        is_correct = accuracy(x, y, model)\n",
    "        train_epoch_accuracies.extend(is_correct)\n",
    "    train_epoch_accuracy = np.mean(train_epoch_accuracies)\n",
    "    \n",
    "    for batch in val_datalader:\n",
    "        x, y = batch\n",
    "        val_is_correct = accuracy(x, y, model)\n",
    "        val_epoch_loss = val_loss(x, y, model, loss_function)\n",
    "        \n",
    "    val_epoch_accuracy = np.mean(val_is_correct)\n",
    "    \n",
    "    train_losses.append(train_epoch_loss)\n",
    "    train_accuracies.append(train_epoch_accuracy)\n",
    "    val_losses.append(val_epoch_loss)\n",
    "    val_accuracies.append(val_epoch_accuracy)"
   ]
  },
  {
   "cell_type": "code",
   "execution_count": 16,
   "metadata": {},
   "outputs": [
    {
     "data": {
      "image/png": "[encoded data removed]",
      "text/plain": [
       "<Figure size 720x576 with 2 Axes>"
      ]
     },
     "metadata": {
      "needs_background": "light"
     },
     "output_type": "display_data"
    }
   ],
   "source": [
    "fig, (ax0, ax1) = plt.subplots(nrows=2, ncols=1, figsize=(10, 8))\n",
    "\n",
    "epochs = [i for i in range(1, 31)]\n",
    "\n",
    "# Add data to ax0\n",
    "ax0.scatter(x=epochs,\n",
    "            y=train_losses)\n",
    "ax0.plot(val_losses, color='red')\n",
    "\n",
    "# Customize ax0\n",
    "ax0.set(title= \"Training and validation loss with dropout\",\n",
    "        ylabel= \"Loss\",\n",
    "        xlabel= \"Epochs\")\n",
    "\n",
    "# Add legend to ax0\n",
    "ax0.legend(['Training loss', 'Validation loss'])\n",
    "\n",
    "# Set Major ticks\n",
    "ax0.xaxis.set_major_locator(plt.MultipleLocator(10))\n",
    "\n",
    "# Configure the grid lines\n",
    "ax0.grid('off')\n",
    "\n",
    "# Add data to ax1\n",
    "ax1.scatter(x=epochs,\n",
    "            y=train_accuracies)\n",
    "ax1.plot(val_accuracies, color='red')\n",
    "\n",
    "# Customize ax1\n",
    "ax1.set(title= \"Training and validation loss with dropout\",\n",
    "        ylabel= \"Accuracy\",\n",
    "        xlabel= \"Epochs\")\n",
    "\n",
    "# Add legend to ax1\n",
    "ax1.legend(['Training accuracy', 'Validation accuracy'])\n",
    "\n",
    "# Set Major ticks\n",
    "ax1.xaxis.set_major_locator(plt.MultipleLocator(10))\n",
    "\n",
    "# Configure the grid lines\n",
    "ax1.grid('off')\n",
    "\n",
    "# Add padding between axes\n",
    "plt.tight_layout();"
   ]
  }
 ],
 "metadata": {
  "kernelspec": {
   "display_name": "Python 3",
   "language": "python",
   "name": "python3"
  },
  "language_info": {
   "codemirror_mode": {
    "name": "ipython",
    "version": 3
   },
   "file_extension": ".py",
   "mimetype": "text/x-python",
   "name": "python",
   "nbconvert_exporter": "python",
   "pygments_lexer": "ipython3",
   "version": "3.8.5"
  }
 },
 "nbformat": 4,
 "nbformat_minor": 4
}
