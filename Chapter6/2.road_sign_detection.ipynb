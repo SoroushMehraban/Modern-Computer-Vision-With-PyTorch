{
  "nbformat": 4,
  "nbformat_minor": 0,
  "metadata": {
    "colab": {
      "name": "2.road_sign_detection.ipynb",
      "provenance": [],
      "collapsed_sections": []
    },
    "kernelspec": {
      "name": "python3",
      "display_name": "Python 3"
    },
    "language_info": {
      "name": "python"
    },
    "accelerator": "GPU"
  },
  "cells": [
    {
      "cell_type": "code",
      "execution_count": 1,
      "metadata": {
        "id": "sFnMp50XhRT9"
      },
      "outputs": [],
      "source": [
        "from sklearn.model_selection import train_test_split\n",
        "import numpy as np, cv2, pandas as pd\n",
        "import matplotlib.pyplot as plt\n",
        "\n",
        "import torch\n",
        "import torch.nn as nn\n",
        "import torch.nn.functional as F\n",
        "from torch import optim\n",
        "\n",
        "from torch.utils.data import Dataset, DataLoader\n",
        "import torchvision\n",
        "from torchvision import transforms as T, models, datasets\n",
        "\n",
        "import os\n",
        "from glob import glob"
      ]
    },
    {
      "cell_type": "code",
      "source": [
        "device = 'cuda' if torch.cuda.is_available() else 'cpu'"
      ],
      "metadata": {
        "id": "RYpaFzM3tnit"
      },
      "execution_count": 2,
      "outputs": []
    },
    {
      "cell_type": "markdown",
      "source": [
        "# Dataset"
      ],
      "metadata": {
        "id": "cCO0nDMJkBqt"
      }
    },
    {
      "cell_type": "code",
      "source": [
        "if not os.path.exists('GTSRB'):\n",
        "    !wget -qq https://sid.erda.dk/public/archives/daaeac0d7ce1152aea9b61d9f1e19370/GTSRB_Final_Training_Images.zip\n",
        "    !wget -qq https://sid.erda.dk/public/archives/daaeac0d7ce1152aea9b61d9f1e19370/GTSRB_Final_Test_Images.zip\n",
        "    !unzip -qq GTSRB_Final_Training_Images.zip\n",
        "    !unzip -qq GTSRB_Final_Test_Images.zip\n",
        "    !wget https://raw.githubusercontent.com/georgesung/traffic_sign_classification_german/master/signnames.csv\n",
        "    !rm GTSRB_Final_Training_Images.zip GTSRB_Final_Test_Images.zip"
      ],
      "metadata": {
        "colab": {
          "base_uri": "https://localhost:8080/"
        },
        "id": "SCTcDRLBjaO1",
        "outputId": "1344e4db-6aa3-4f72-d650-fe460d261e12"
      },
      "execution_count": 3,
      "outputs": [
        {
          "output_type": "stream",
          "name": "stdout",
          "text": [
            "--2022-02-23 18:24:27--  https://raw.githubusercontent.com/georgesung/traffic_sign_classification_german/master/signnames.csv\n",
            "Resolving raw.githubusercontent.com (raw.githubusercontent.com)... 185.199.108.133, 185.199.109.133, 185.199.110.133, ...\n",
            "Connecting to raw.githubusercontent.com (raw.githubusercontent.com)|185.199.108.133|:443... connected.\n",
            "HTTP request sent, awaiting response... 200 OK\n",
            "Length: 999 [text/plain]\n",
            "Saving to: ‘signnames.csv’\n",
            "\n",
            "\rsignnames.csv         0%[                    ]       0  --.-KB/s               \rsignnames.csv       100%[===================>]     999  --.-KB/s    in 0s      \n",
            "\n",
            "2022-02-23 18:24:27 (28.3 MB/s) - ‘signnames.csv’ saved [999/999]\n",
            "\n"
          ]
        }
      ]
    },
    {
      "cell_type": "markdown",
      "source": [
        "Assign class identifiers to potential output classes."
      ],
      "metadata": {
        "id": "kOp8u7ISmh7q"
      }
    },
    {
      "cell_type": "code",
      "source": [
        "class_ids = pd.read_csv('signnames.csv')\n",
        "class_ids.head()"
      ],
      "metadata": {
        "colab": {
          "base_uri": "https://localhost:8080/",
          "height": 206
        },
        "id": "4rJHU59hkc2a",
        "outputId": "bed6437e-02e7-4038-af96-8f87c1631390"
      },
      "execution_count": 4,
      "outputs": [
        {
          "output_type": "execute_result",
          "data": {
            "text/html": [
              "\n",
              "  <div id=\"df-e08d8918-b7a4-48a4-8fdc-f401e56f1dbe\">\n",
              "    <div class=\"colab-df-container\">\n",
              "      <div>\n",
              "<style scoped>\n",
              "    .dataframe tbody tr th:only-of-type {\n",
              "        vertical-align: middle;\n",
              "    }\n",
              "\n",
              "    .dataframe tbody tr th {\n",
              "        vertical-align: top;\n",
              "    }\n",
              "\n",
              "    .dataframe thead th {\n",
              "        text-align: right;\n",
              "    }\n",
              "</style>\n",
              "<table border=\"1\" class=\"dataframe\">\n",
              "  <thead>\n",
              "    <tr style=\"text-align: right;\">\n",
              "      <th></th>\n",
              "      <th>ClassId</th>\n",
              "      <th>SignName</th>\n",
              "    </tr>\n",
              "  </thead>\n",
              "  <tbody>\n",
              "    <tr>\n",
              "      <th>0</th>\n",
              "      <td>0</td>\n",
              "      <td>Speed limit (20km/h)</td>\n",
              "    </tr>\n",
              "    <tr>\n",
              "      <th>1</th>\n",
              "      <td>1</td>\n",
              "      <td>Speed limit (30km/h)</td>\n",
              "    </tr>\n",
              "    <tr>\n",
              "      <th>2</th>\n",
              "      <td>2</td>\n",
              "      <td>Speed limit (50km/h)</td>\n",
              "    </tr>\n",
              "    <tr>\n",
              "      <th>3</th>\n",
              "      <td>3</td>\n",
              "      <td>Speed limit (60km/h)</td>\n",
              "    </tr>\n",
              "    <tr>\n",
              "      <th>4</th>\n",
              "      <td>4</td>\n",
              "      <td>Speed limit (70km/h)</td>\n",
              "    </tr>\n",
              "  </tbody>\n",
              "</table>\n",
              "</div>\n",
              "      <button class=\"colab-df-convert\" onclick=\"convertToInteractive('df-e08d8918-b7a4-48a4-8fdc-f401e56f1dbe')\"\n",
              "              title=\"Convert this dataframe to an interactive table.\"\n",
              "              style=\"display:none;\">\n",
              "        \n",
              "  <svg xmlns=\"http://www.w3.org/2000/svg\" height=\"24px\"viewBox=\"0 0 24 24\"\n",
              "       width=\"24px\">\n",
              "    <path d=\"M0 0h24v24H0V0z\" fill=\"none\"/>\n",
              "    <path d=\"M18.56 5.44l.94 2.06.94-2.06 2.06-.94-2.06-.94-.94-2.06-.94 2.06-2.06.94zm-11 1L8.5 8.5l.94-2.06 2.06-.94-2.06-.94L8.5 2.5l-.94 2.06-2.06.94zm10 10l.94 2.06.94-2.06 2.06-.94-2.06-.94-.94-2.06-.94 2.06-2.06.94z\"/><path d=\"M17.41 7.96l-1.37-1.37c-.4-.4-.92-.59-1.43-.59-.52 0-1.04.2-1.43.59L10.3 9.45l-7.72 7.72c-.78.78-.78 2.05 0 2.83L4 21.41c.39.39.9.59 1.41.59.51 0 1.02-.2 1.41-.59l7.78-7.78 2.81-2.81c.8-.78.8-2.07 0-2.86zM5.41 20L4 18.59l7.72-7.72 1.47 1.35L5.41 20z\"/>\n",
              "  </svg>\n",
              "      </button>\n",
              "      \n",
              "  <style>\n",
              "    .colab-df-container {\n",
              "      display:flex;\n",
              "      flex-wrap:wrap;\n",
              "      gap: 12px;\n",
              "    }\n",
              "\n",
              "    .colab-df-convert {\n",
              "      background-color: #E8F0FE;\n",
              "      border: none;\n",
              "      border-radius: 50%;\n",
              "      cursor: pointer;\n",
              "      display: none;\n",
              "      fill: #1967D2;\n",
              "      height: 32px;\n",
              "      padding: 0 0 0 0;\n",
              "      width: 32px;\n",
              "    }\n",
              "\n",
              "    .colab-df-convert:hover {\n",
              "      background-color: #E2EBFA;\n",
              "      box-shadow: 0px 1px 2px rgba(60, 64, 67, 0.3), 0px 1px 3px 1px rgba(60, 64, 67, 0.15);\n",
              "      fill: #174EA6;\n",
              "    }\n",
              "\n",
              "    [theme=dark] .colab-df-convert {\n",
              "      background-color: #3B4455;\n",
              "      fill: #D2E3FC;\n",
              "    }\n",
              "\n",
              "    [theme=dark] .colab-df-convert:hover {\n",
              "      background-color: #434B5C;\n",
              "      box-shadow: 0px 1px 3px 1px rgba(0, 0, 0, 0.15);\n",
              "      filter: drop-shadow(0px 1px 2px rgba(0, 0, 0, 0.3));\n",
              "      fill: #FFFFFF;\n",
              "    }\n",
              "  </style>\n",
              "\n",
              "      <script>\n",
              "        const buttonEl =\n",
              "          document.querySelector('#df-e08d8918-b7a4-48a4-8fdc-f401e56f1dbe button.colab-df-convert');\n",
              "        buttonEl.style.display =\n",
              "          google.colab.kernel.accessAllowed ? 'block' : 'none';\n",
              "\n",
              "        async function convertToInteractive(key) {\n",
              "          const element = document.querySelector('#df-e08d8918-b7a4-48a4-8fdc-f401e56f1dbe');\n",
              "          const dataTable =\n",
              "            await google.colab.kernel.invokeFunction('convertToInteractive',\n",
              "                                                     [key], {});\n",
              "          if (!dataTable) return;\n",
              "\n",
              "          const docLinkHtml = 'Like what you see? Visit the ' +\n",
              "            '<a target=\"_blank\" href=https://colab.research.google.com/notebooks/data_table.ipynb>data table notebook</a>'\n",
              "            + ' to learn more about interactive tables.';\n",
              "          element.innerHTML = '';\n",
              "          dataTable['output_type'] = 'display_data';\n",
              "          await google.colab.output.renderOutput(dataTable, element);\n",
              "          const docLink = document.createElement('div');\n",
              "          docLink.innerHTML = docLinkHtml;\n",
              "          element.appendChild(docLink);\n",
              "        }\n",
              "      </script>\n",
              "    </div>\n",
              "  </div>\n",
              "  "
            ],
            "text/plain": [
              "   ClassId              SignName\n",
              "0        0  Speed limit (20km/h)\n",
              "1        1  Speed limit (30km/h)\n",
              "2        2  Speed limit (50km/h)\n",
              "3        3  Speed limit (60km/h)\n",
              "4        4  Speed limit (70km/h)"
            ]
          },
          "metadata": {},
          "execution_count": 4
        }
      ]
    },
    {
      "cell_type": "code",
      "source": [
        "class_ids.set_index('ClassId', inplace=True)\n",
        "class_ids = class_ids.to_dict()['SignName']\n",
        "class_ids = {f'{class_id:05d}':sign_name\n",
        "             for class_id, sign_name in class_ids.items()}\n",
        "id2int = {sign_name:ix\n",
        "          for ix, (class_id,sign_name) in enumerate(class_ids.items())}"
      ],
      "metadata": {
        "id": "iTMjScWtm5YV"
      },
      "execution_count": 5,
      "outputs": []
    },
    {
      "cell_type": "markdown",
      "source": [
        "Transformations without data augmentation"
      ],
      "metadata": {
        "id": "ExvM3t2fpQND"
      }
    },
    {
      "cell_type": "code",
      "source": [
        "train_transformations = T.Compose([\n",
        "                              T.ToPILImage(),\n",
        "                              T.Resize(32),\n",
        "                              T.CenterCrop(32),\n",
        "                              T.ToTensor(),\n",
        "                              T.Normalize(mean=[0.485, 0.456, 0.406],\n",
        "                                          std=[0.229, 0.224, 0.225])\n",
        "                        ])\n",
        "\n",
        "val_transformations = T.Compose([\n",
        "                            T.ToPILImage(),\n",
        "                            T.Resize(32),\n",
        "                            T.CenterCrop(32),\n",
        "                            T.ToTensor(),\n",
        "                            T.Normalize(mean=[0.485, 0.456, 0.406],\n",
        "                                        std=[0.229, 0.224, 0.225])\n",
        "                      ])"
      ],
      "metadata": {
        "id": "JVlFbxhHpP5O"
      },
      "execution_count": 6,
      "outputs": []
    },
    {
      "cell_type": "markdown",
      "source": [
        "Define the dataset and dataloaders"
      ],
      "metadata": {
        "id": "W4bDY8BEqbIv"
      }
    },
    {
      "cell_type": "code",
      "source": [
        "class GTSRB(Dataset):\n",
        "    def __init__(self, files, transform=None):\n",
        "        self.files = files\n",
        "        self.transform = transform\n",
        "    \n",
        "    def __len__(self):\n",
        "        return len(self.files)\n",
        "    \n",
        "    def __getitem__(self, ix):\n",
        "        file_path = self.files[ix]\n",
        "        img_class = file_path.split(\"/\")[-2]\n",
        "\n",
        "        img = cv2.imread(file_path)\n",
        "        img = cv2.cvtColor(img, cv2.COLOR_BGR2RGB)\n",
        "\n",
        "        return img, class_ids[img_class]\n",
        "    \n",
        "    def choose(self):\n",
        "        return self[np.random.randint(len(self))]\n",
        "    \n",
        "    def collate_fn(self, batch):\n",
        "        imgs, classes = list(zip(*batch))\n",
        "        if self.transform:\n",
        "            imgs = [self.transform(img)[None] for img in imgs]\n",
        "        classes = [torch.tensor([id2int[img_class]])\n",
        "                   for img_class in classes]\n",
        "        \n",
        "        imgs = torch.cat(imgs).to(device)\n",
        "        classes = torch.cat(classes).to(device)\n",
        "\n",
        "        return imgs, classes"
      ],
      "metadata": {
        "id": "5VVUF2Cansmt"
      },
      "execution_count": 7,
      "outputs": []
    },
    {
      "cell_type": "code",
      "source": [
        "all_files = glob('GTSRB/Final_Training/Images/*/*.ppm')\n",
        "np.random.seed(10)\n",
        "np.random.shuffle(all_files)\n",
        "\n",
        "train_files, val_files = train_test_split(all_files, random_state=1)\n",
        "\n",
        "train_dataset = GTSRB(train_files, transform=train_transformations)\n",
        "val_dataset = GTSRB(val_files, transform=val_transformations)\n",
        "\n",
        "train_dataloader = DataLoader(train_dataset, batch_size=32, shuffle=True, \n",
        "                             collate_fn=train_dataset.collate_fn)\n",
        "val_dataloader = DataLoader(val_dataset, batch_size=32, shuffle=False,\n",
        "                             collate_fn=val_dataset.collate_fn)"
      ],
      "metadata": {
        "id": "I-G1OXhAuTsX"
      },
      "execution_count": 8,
      "outputs": []
    },
    {
      "cell_type": "markdown",
      "source": [
        "# Model"
      ],
      "metadata": {
        "id": "x7Swg_zww9i9"
      }
    },
    {
      "cell_type": "code",
      "source": [
        "class SignClassifier(nn.Module):\n",
        "    def __init__(self, batch_norm=False):\n",
        "        super().__init__()\n",
        "        self.batch_norm = batch_norm\n",
        "\n",
        "        self.model = nn.Sequential(\n",
        "                        self.conv_block(3, 64),\n",
        "                        self.conv_block(64, 64),\n",
        "                        self.conv_block(64, 128),\n",
        "                        self.conv_block(128, 64),\n",
        "                        nn.Flatten(),\n",
        "                        nn.Linear(256, 256),\n",
        "                        nn.Dropout(0.2),\n",
        "                        nn.ReLU(inplace=True),\n",
        "                        nn.Linear(256, len(id2int))\n",
        "                     )\n",
        "        self.loss_fn = nn.CrossEntropyLoss()\n",
        "\n",
        "\n",
        "    def conv_block(self, in_channels, out_channels):\n",
        "        if self.batch_norm:\n",
        "            return nn.Sequential(\n",
        "                nn.Dropout(0.2),\n",
        "                nn.Conv2d(in_channels, out_channels, kernel_size=3, padding=1),\n",
        "                nn.ReLU(inplace=True),\n",
        "                nn.BatchNorm2d(out_channels),\n",
        "                nn.MaxPool2d(kernel_size=2),\n",
        "            )\n",
        "        else:\n",
        "            return nn.Sequential(\n",
        "                nn.Dropout(0.2),\n",
        "                nn.Conv2d(in_channels, out_channels, kernel_size=3, padding=1),\n",
        "                nn.ReLU(inplace=True),\n",
        "                nn.MaxPool2d(kernel_size=2),\n",
        "            )\n",
        "\n",
        "\n",
        "    def forward(self, x):\n",
        "        return self.model(x)\n",
        "    \n",
        "\n",
        "    def compute_metrics(self, preds, targets):\n",
        "        loss = self.loss_fn(preds, targets)\n",
        "        accuracy = (torch.max(preds, 1)[1] == targets).float().mean()\n",
        "        return loss, accuracy"
      ],
      "metadata": {
        "id": "vtygsqXVwx0r"
      },
      "execution_count": 9,
      "outputs": []
    },
    {
      "cell_type": "markdown",
      "source": [
        "# Functions"
      ],
      "metadata": {
        "id": "enGXl4QU1OSv"
      }
    },
    {
      "cell_type": "code",
      "source": [
        "def train_batch(model, data, optimizer, criterion):\n",
        "    model.train()\n",
        "    images, labels = data\n",
        "    preds = model(images)\n",
        "    loss, accuracy = criterion(preds, labels)\n",
        "\n",
        "    loss.backward()\n",
        "    optimizer.step()\n",
        "    optimizer.zero_grad()\n",
        "\n",
        "    return loss.item(), accuracy.item()"
      ],
      "metadata": {
        "id": "v6WOQBvx0Vv7"
      },
      "execution_count": 10,
      "outputs": []
    },
    {
      "cell_type": "code",
      "source": [
        "@torch.no_grad()\n",
        "def validate_batch(model, data, criterion):\n",
        "    model.eval()\n",
        "    images, labels = data\n",
        "    preds = model(images)\n",
        "    loss, accuracy = criterion(preds, labels)\n",
        "    return loss.item(), accuracy.item()"
      ],
      "metadata": {
        "id": "4B6JXFA91QEK"
      },
      "execution_count": 11,
      "outputs": []
    },
    {
      "cell_type": "markdown",
      "source": [
        "# Train without data augmentation and without batch norm"
      ],
      "metadata": {
        "id": "sJHxQ4P83_Z6"
      }
    },
    {
      "cell_type": "code",
      "source": [
        "accuracies = {\n",
        "    'Without Augmentation - Without Batch Normalization': {\n",
        "        \"train\": [],\n",
        "        \"val\": []\n",
        "    },\n",
        "    'Without Augmentation - With Batch Normalization': {\n",
        "        \"train\": [],\n",
        "        \"val\": []\n",
        "    },\n",
        "    'With Augmentation - With Batch Normalization': {\n",
        "        \"train\": [],\n",
        "        \"val\": []\n",
        "    }\n",
        "}"
      ],
      "metadata": {
        "id": "71x_2zCO6Z8c"
      },
      "execution_count": 12,
      "outputs": []
    },
    {
      "cell_type": "code",
      "source": [
        "model = SignClassifier().to(device)\n",
        "criterion = model.compute_metrics\n",
        "optimizer = optim.Adam(model.parameters(), lr=1e-3)\n",
        "n_epochs = 50"
      ],
      "metadata": {
        "id": "cRGTQSMc1Q5D"
      },
      "execution_count": 13,
      "outputs": []
    },
    {
      "cell_type": "code",
      "source": [
        "for epoch in range(1, n_epochs + 1):\n",
        "    train_epoch_losses, train_epoch_accuracies = [], []\n",
        "    for batch in train_dataloader:\n",
        "        loss, accuracy = train_batch(model, batch, optimizer, criterion)\n",
        "        train_epoch_losses.append(loss)\n",
        "        train_epoch_accuracies.append(accuracy)\n",
        "    \n",
        "    val_epoch_losses, val_epoch_accuracies = [], []\n",
        "    for batch in val_dataloader:\n",
        "        loss, accuracy = validate_batch(model, batch, criterion)\n",
        "        val_epoch_losses.append(loss)\n",
        "        val_epoch_accuracies.append(accuracy)\n",
        "    \n",
        "    train_accuracy = np.mean(train_epoch_accuracies)\n",
        "    val_accuracy = np.mean(val_epoch_accuracies)\n",
        "    \n",
        "    accuracies['Without Augmentation - Without Batch Normalization']\\\n",
        "              ['train'].append(train_accuracy)\n",
        "    accuracies['Without Augmentation - Without Batch Normalization']\\\n",
        "              ['val'].append(val_accuracy)\n",
        "\n",
        "    print(f\"EPOCH: {epoch}\\t\"\n",
        "          f\"train_loss: {np.mean(train_epoch_losses):.2f}\\t\"\n",
        "          f\"train_accuracy: {train_accuracy:.2f}\\t\"\n",
        "          f\"val_loss: {np.mean(val_epoch_losses):.2f}\\t\"\n",
        "          f\"val_accuracy: {val_accuracy:.2f}\")"
      ],
      "metadata": {
        "colab": {
          "base_uri": "https://localhost:8080/"
        },
        "id": "T2gR1TQx4Fxi",
        "outputId": "b704dd18-a0e6-45f5-bdb8-a0eca3b8ade6"
      },
      "execution_count": 14,
      "outputs": [
        {
          "output_type": "stream",
          "name": "stdout",
          "text": [
            "EPOCH: 1\ttrain_loss: 2.35\ttrain_accuracy: 0.31\tval_loss: 1.41\tval_accuracy: 0.54\n",
            "EPOCH: 2\ttrain_loss: 1.02\ttrain_accuracy: 0.66\tval_loss: 0.80\tval_accuracy: 0.78\n",
            "EPOCH: 3\ttrain_loss: 0.66\ttrain_accuracy: 0.78\tval_loss: 0.72\tval_accuracy: 0.79\n",
            "EPOCH: 4\ttrain_loss: 0.53\ttrain_accuracy: 0.82\tval_loss: 0.80\tval_accuracy: 0.78\n",
            "EPOCH: 5\ttrain_loss: 0.45\ttrain_accuracy: 0.85\tval_loss: 0.64\tval_accuracy: 0.82\n",
            "EPOCH: 6\ttrain_loss: 0.40\ttrain_accuracy: 0.87\tval_loss: 0.51\tval_accuracy: 0.85\n",
            "EPOCH: 7\ttrain_loss: 0.38\ttrain_accuracy: 0.88\tval_loss: 0.74\tval_accuracy: 0.80\n",
            "EPOCH: 8\ttrain_loss: 0.35\ttrain_accuracy: 0.89\tval_loss: 0.66\tval_accuracy: 0.81\n",
            "EPOCH: 9\ttrain_loss: 0.32\ttrain_accuracy: 0.89\tval_loss: 0.65\tval_accuracy: 0.82\n",
            "EPOCH: 10\ttrain_loss: 0.31\ttrain_accuracy: 0.90\tval_loss: 0.53\tval_accuracy: 0.86\n",
            "EPOCH: 11\ttrain_loss: 0.30\ttrain_accuracy: 0.90\tval_loss: 0.47\tval_accuracy: 0.86\n",
            "EPOCH: 12\ttrain_loss: 0.28\ttrain_accuracy: 0.91\tval_loss: 0.64\tval_accuracy: 0.82\n",
            "EPOCH: 13\ttrain_loss: 0.27\ttrain_accuracy: 0.91\tval_loss: 0.40\tval_accuracy: 0.88\n",
            "EPOCH: 14\ttrain_loss: 0.27\ttrain_accuracy: 0.91\tval_loss: 0.47\tval_accuracy: 0.87\n",
            "EPOCH: 15\ttrain_loss: 0.25\ttrain_accuracy: 0.92\tval_loss: 0.53\tval_accuracy: 0.84\n",
            "EPOCH: 16\ttrain_loss: 0.25\ttrain_accuracy: 0.92\tval_loss: 0.62\tval_accuracy: 0.84\n",
            "EPOCH: 17\ttrain_loss: 0.25\ttrain_accuracy: 0.92\tval_loss: 0.52\tval_accuracy: 0.85\n",
            "EPOCH: 18\ttrain_loss: 0.25\ttrain_accuracy: 0.92\tval_loss: 0.48\tval_accuracy: 0.86\n",
            "EPOCH: 19\ttrain_loss: 0.24\ttrain_accuracy: 0.92\tval_loss: 0.67\tval_accuracy: 0.82\n",
            "EPOCH: 20\ttrain_loss: 0.23\ttrain_accuracy: 0.93\tval_loss: 0.47\tval_accuracy: 0.86\n",
            "EPOCH: 21\ttrain_loss: 0.24\ttrain_accuracy: 0.92\tval_loss: 0.50\tval_accuracy: 0.87\n",
            "EPOCH: 22\ttrain_loss: 0.23\ttrain_accuracy: 0.93\tval_loss: 0.46\tval_accuracy: 0.87\n",
            "EPOCH: 23\ttrain_loss: 0.22\ttrain_accuracy: 0.93\tval_loss: 0.47\tval_accuracy: 0.88\n",
            "EPOCH: 24\ttrain_loss: 0.23\ttrain_accuracy: 0.93\tval_loss: 0.75\tval_accuracy: 0.79\n",
            "EPOCH: 25\ttrain_loss: 0.21\ttrain_accuracy: 0.93\tval_loss: 0.39\tval_accuracy: 0.88\n",
            "EPOCH: 26\ttrain_loss: 0.22\ttrain_accuracy: 0.93\tval_loss: 0.39\tval_accuracy: 0.89\n",
            "EPOCH: 27\ttrain_loss: 0.21\ttrain_accuracy: 0.93\tval_loss: 0.31\tval_accuracy: 0.91\n",
            "EPOCH: 28\ttrain_loss: 0.21\ttrain_accuracy: 0.93\tval_loss: 0.37\tval_accuracy: 0.90\n",
            "EPOCH: 29\ttrain_loss: 0.21\ttrain_accuracy: 0.94\tval_loss: 0.85\tval_accuracy: 0.83\n",
            "EPOCH: 30\ttrain_loss: 0.21\ttrain_accuracy: 0.94\tval_loss: 0.65\tval_accuracy: 0.85\n",
            "EPOCH: 31\ttrain_loss: 0.21\ttrain_accuracy: 0.94\tval_loss: 0.33\tval_accuracy: 0.91\n",
            "EPOCH: 32\ttrain_loss: 0.21\ttrain_accuracy: 0.94\tval_loss: 0.55\tval_accuracy: 0.86\n",
            "EPOCH: 33\ttrain_loss: 0.21\ttrain_accuracy: 0.94\tval_loss: 0.52\tval_accuracy: 0.86\n",
            "EPOCH: 34\ttrain_loss: 0.21\ttrain_accuracy: 0.94\tval_loss: 0.55\tval_accuracy: 0.86\n",
            "EPOCH: 35\ttrain_loss: 0.20\ttrain_accuracy: 0.94\tval_loss: 0.52\tval_accuracy: 0.87\n",
            "EPOCH: 36\ttrain_loss: 0.21\ttrain_accuracy: 0.94\tval_loss: 0.49\tval_accuracy: 0.87\n",
            "EPOCH: 37\ttrain_loss: 0.20\ttrain_accuracy: 0.94\tval_loss: 0.44\tval_accuracy: 0.89\n",
            "EPOCH: 38\ttrain_loss: 0.21\ttrain_accuracy: 0.94\tval_loss: 1.03\tval_accuracy: 0.84\n",
            "EPOCH: 39\ttrain_loss: 0.20\ttrain_accuracy: 0.94\tval_loss: 0.31\tval_accuracy: 0.92\n",
            "EPOCH: 40\ttrain_loss: 0.22\ttrain_accuracy: 0.94\tval_loss: 0.47\tval_accuracy: 0.89\n",
            "EPOCH: 41\ttrain_loss: 0.20\ttrain_accuracy: 0.94\tval_loss: 0.46\tval_accuracy: 0.88\n",
            "EPOCH: 42\ttrain_loss: 0.18\ttrain_accuracy: 0.94\tval_loss: 0.47\tval_accuracy: 0.89\n",
            "EPOCH: 43\ttrain_loss: 0.20\ttrain_accuracy: 0.94\tval_loss: 0.97\tval_accuracy: 0.82\n",
            "EPOCH: 44\ttrain_loss: 0.21\ttrain_accuracy: 0.94\tval_loss: 0.41\tval_accuracy: 0.91\n",
            "EPOCH: 45\ttrain_loss: 0.19\ttrain_accuracy: 0.94\tval_loss: 1.04\tval_accuracy: 0.84\n",
            "EPOCH: 46\ttrain_loss: 0.20\ttrain_accuracy: 0.94\tval_loss: 0.54\tval_accuracy: 0.87\n",
            "EPOCH: 47\ttrain_loss: 0.20\ttrain_accuracy: 0.94\tval_loss: 0.55\tval_accuracy: 0.88\n",
            "EPOCH: 48\ttrain_loss: 0.19\ttrain_accuracy: 0.94\tval_loss: 0.23\tval_accuracy: 0.93\n",
            "EPOCH: 49\ttrain_loss: 0.21\ttrain_accuracy: 0.94\tval_loss: 1.39\tval_accuracy: 0.80\n",
            "EPOCH: 50\ttrain_loss: 0.20\ttrain_accuracy: 0.94\tval_loss: 0.59\tval_accuracy: 0.86\n"
          ]
        }
      ]
    },
    {
      "cell_type": "markdown",
      "source": [
        "# Train without data augmentation and with batch norm"
      ],
      "metadata": {
        "id": "tzoPvP-rH7kw"
      }
    },
    {
      "cell_type": "code",
      "source": [
        "model = SignClassifier(batch_norm=True).to(device)\n",
        "criterion = model.compute_metrics\n",
        "optimizer = optim.Adam(model.parameters(), lr=1e-3)\n",
        "n_epochs = 50"
      ],
      "metadata": {
        "id": "Y7lu1LGQBQ_h"
      },
      "execution_count": 15,
      "outputs": []
    },
    {
      "cell_type": "code",
      "source": [
        "for epoch in range(1, n_epochs + 1):\n",
        "    train_epoch_losses, train_epoch_accuracies = [], []\n",
        "    for batch in train_dataloader:\n",
        "        loss, accuracy = train_batch(model, batch, optimizer, criterion)\n",
        "        train_epoch_losses.append(loss)\n",
        "        train_epoch_accuracies.append(accuracy)\n",
        "    \n",
        "    val_epoch_losses, val_epoch_accuracies = [], []\n",
        "    for batch in val_dataloader:\n",
        "        loss, accuracy = validate_batch(model, batch, criterion)\n",
        "        val_epoch_losses.append(loss)\n",
        "        val_epoch_accuracies.append(accuracy)\n",
        "    \n",
        "    train_accuracy = np.mean(train_epoch_accuracies)\n",
        "    val_accuracy = np.mean(val_epoch_accuracies)\n",
        "    \n",
        "    accuracies['Without Augmentation - With Batch Normalization']\\\n",
        "              ['train'].append(train_accuracy)\n",
        "    accuracies['Without Augmentation - With Batch Normalization']\\\n",
        "              ['val'].append(val_accuracy)\n",
        "\n",
        "    print(f\"EPOCH: {epoch}\\t\"\n",
        "          f\"train_loss: {np.mean(train_epoch_losses):.2f}\\t\"\n",
        "          f\"train_accuracy: {train_accuracy:.2f}\\t\"\n",
        "          f\"val_loss: {np.mean(val_epoch_losses):.2f}\\t\"\n",
        "          f\"val_accuracy: {val_accuracy:.2f}\")"
      ],
      "metadata": {
        "colab": {
          "base_uri": "https://localhost:8080/"
        },
        "id": "xgIx9LJGIEch",
        "outputId": "4faaf14b-50b3-43f1-da10-c974b7750b2e"
      },
      "execution_count": 16,
      "outputs": [
        {
          "output_type": "stream",
          "name": "stdout",
          "text": [
            "EPOCH: 1\ttrain_loss: 1.37\ttrain_accuracy: 0.59\tval_loss: 1.08\tval_accuracy: 0.70\n",
            "EPOCH: 2\ttrain_loss: 0.43\ttrain_accuracy: 0.86\tval_loss: 0.41\tval_accuracy: 0.87\n",
            "EPOCH: 3\ttrain_loss: 0.29\ttrain_accuracy: 0.91\tval_loss: 0.88\tval_accuracy: 0.79\n",
            "EPOCH: 4\ttrain_loss: 0.23\ttrain_accuracy: 0.92\tval_loss: 0.51\tval_accuracy: 0.85\n",
            "EPOCH: 5\ttrain_loss: 0.19\ttrain_accuracy: 0.94\tval_loss: 0.31\tval_accuracy: 0.90\n",
            "EPOCH: 6\ttrain_loss: 0.17\ttrain_accuracy: 0.94\tval_loss: 0.45\tval_accuracy: 0.87\n",
            "EPOCH: 7\ttrain_loss: 0.14\ttrain_accuracy: 0.95\tval_loss: 0.48\tval_accuracy: 0.88\n",
            "EPOCH: 8\ttrain_loss: 0.13\ttrain_accuracy: 0.96\tval_loss: 0.34\tval_accuracy: 0.91\n",
            "EPOCH: 9\ttrain_loss: 0.12\ttrain_accuracy: 0.96\tval_loss: 0.76\tval_accuracy: 0.83\n",
            "EPOCH: 10\ttrain_loss: 0.11\ttrain_accuracy: 0.96\tval_loss: 0.46\tval_accuracy: 0.88\n",
            "EPOCH: 11\ttrain_loss: 0.10\ttrain_accuracy: 0.97\tval_loss: 0.29\tval_accuracy: 0.92\n",
            "EPOCH: 12\ttrain_loss: 0.10\ttrain_accuracy: 0.97\tval_loss: 0.42\tval_accuracy: 0.89\n",
            "EPOCH: 13\ttrain_loss: 0.09\ttrain_accuracy: 0.97\tval_loss: 0.35\tval_accuracy: 0.91\n",
            "EPOCH: 14\ttrain_loss: 0.10\ttrain_accuracy: 0.97\tval_loss: 0.49\tval_accuracy: 0.89\n",
            "EPOCH: 15\ttrain_loss: 0.08\ttrain_accuracy: 0.97\tval_loss: 0.59\tval_accuracy: 0.88\n",
            "EPOCH: 16\ttrain_loss: 0.08\ttrain_accuracy: 0.97\tval_loss: 0.34\tval_accuracy: 0.93\n",
            "EPOCH: 17\ttrain_loss: 0.07\ttrain_accuracy: 0.98\tval_loss: 0.68\tval_accuracy: 0.88\n",
            "EPOCH: 18\ttrain_loss: 0.08\ttrain_accuracy: 0.97\tval_loss: 0.44\tval_accuracy: 0.91\n",
            "EPOCH: 19\ttrain_loss: 0.07\ttrain_accuracy: 0.98\tval_loss: 0.57\tval_accuracy: 0.89\n",
            "EPOCH: 20\ttrain_loss: 0.07\ttrain_accuracy: 0.98\tval_loss: 0.47\tval_accuracy: 0.91\n",
            "EPOCH: 21\ttrain_loss: 0.07\ttrain_accuracy: 0.98\tval_loss: 0.44\tval_accuracy: 0.90\n",
            "EPOCH: 22\ttrain_loss: 0.07\ttrain_accuracy: 0.98\tval_loss: 0.42\tval_accuracy: 0.90\n",
            "EPOCH: 23\ttrain_loss: 0.06\ttrain_accuracy: 0.98\tval_loss: 0.66\tval_accuracy: 0.89\n",
            "EPOCH: 24\ttrain_loss: 0.06\ttrain_accuracy: 0.98\tval_loss: 1.13\tval_accuracy: 0.85\n",
            "EPOCH: 25\ttrain_loss: 0.06\ttrain_accuracy: 0.98\tval_loss: 0.43\tval_accuracy: 0.91\n",
            "EPOCH: 26\ttrain_loss: 0.05\ttrain_accuracy: 0.98\tval_loss: 0.62\tval_accuracy: 0.90\n",
            "EPOCH: 27\ttrain_loss: 0.06\ttrain_accuracy: 0.98\tval_loss: 0.17\tval_accuracy: 0.95\n",
            "EPOCH: 28\ttrain_loss: 0.05\ttrain_accuracy: 0.98\tval_loss: 0.20\tval_accuracy: 0.94\n",
            "EPOCH: 29\ttrain_loss: 0.05\ttrain_accuracy: 0.98\tval_loss: 0.20\tval_accuracy: 0.95\n",
            "EPOCH: 30\ttrain_loss: 0.05\ttrain_accuracy: 0.98\tval_loss: 0.31\tval_accuracy: 0.93\n",
            "EPOCH: 31\ttrain_loss: 0.05\ttrain_accuracy: 0.99\tval_loss: 0.27\tval_accuracy: 0.94\n",
            "EPOCH: 32\ttrain_loss: 0.05\ttrain_accuracy: 0.98\tval_loss: 0.79\tval_accuracy: 0.88\n",
            "EPOCH: 33\ttrain_loss: 0.05\ttrain_accuracy: 0.98\tval_loss: 0.50\tval_accuracy: 0.91\n",
            "EPOCH: 34\ttrain_loss: 0.05\ttrain_accuracy: 0.98\tval_loss: 0.30\tval_accuracy: 0.94\n",
            "EPOCH: 35\ttrain_loss: 0.04\ttrain_accuracy: 0.99\tval_loss: 0.16\tval_accuracy: 0.96\n",
            "EPOCH: 36\ttrain_loss: 0.04\ttrain_accuracy: 0.99\tval_loss: 0.23\tval_accuracy: 0.95\n",
            "EPOCH: 37\ttrain_loss: 0.04\ttrain_accuracy: 0.99\tval_loss: 0.36\tval_accuracy: 0.92\n",
            "EPOCH: 38\ttrain_loss: 0.04\ttrain_accuracy: 0.99\tval_loss: 0.35\tval_accuracy: 0.93\n",
            "EPOCH: 39\ttrain_loss: 0.04\ttrain_accuracy: 0.99\tval_loss: 0.30\tval_accuracy: 0.93\n",
            "EPOCH: 40\ttrain_loss: 0.04\ttrain_accuracy: 0.99\tval_loss: 0.41\tval_accuracy: 0.92\n",
            "EPOCH: 41\ttrain_loss: 0.04\ttrain_accuracy: 0.99\tval_loss: 0.15\tval_accuracy: 0.96\n",
            "EPOCH: 42\ttrain_loss: 0.04\ttrain_accuracy: 0.98\tval_loss: 0.31\tval_accuracy: 0.93\n",
            "EPOCH: 43\ttrain_loss: 0.04\ttrain_accuracy: 0.99\tval_loss: 0.28\tval_accuracy: 0.93\n",
            "EPOCH: 44\ttrain_loss: 0.04\ttrain_accuracy: 0.99\tval_loss: 0.31\tval_accuracy: 0.93\n",
            "EPOCH: 45\ttrain_loss: 0.04\ttrain_accuracy: 0.99\tval_loss: 0.12\tval_accuracy: 0.97\n",
            "EPOCH: 46\ttrain_loss: 0.04\ttrain_accuracy: 0.99\tval_loss: 0.25\tval_accuracy: 0.93\n",
            "EPOCH: 47\ttrain_loss: 0.04\ttrain_accuracy: 0.99\tval_loss: 0.23\tval_accuracy: 0.95\n",
            "EPOCH: 48\ttrain_loss: 0.03\ttrain_accuracy: 0.99\tval_loss: 0.26\tval_accuracy: 0.94\n",
            "EPOCH: 49\ttrain_loss: 0.04\ttrain_accuracy: 0.99\tval_loss: 0.15\tval_accuracy: 0.96\n",
            "EPOCH: 50\ttrain_loss: 0.04\ttrain_accuracy: 0.99\tval_loss: 0.26\tval_accuracy: 0.95\n"
          ]
        }
      ]
    },
    {
      "cell_type": "markdown",
      "source": [
        "# Train with data augmentation and with batch norm"
      ],
      "metadata": {
        "id": "PRgfq70bPOED"
      }
    },
    {
      "cell_type": "code",
      "source": [
        "train_transformations = T.Compose([\n",
        "                              T.ToPILImage(),\n",
        "                              T.Resize(32),\n",
        "                              T.CenterCrop(32),\n",
        "                              T.ColorJitter(\n",
        "                                            brightness=(0.8, 1.2),\n",
        "                                            contrast=(0.8, 1.2),\n",
        "                                            saturation=(0.8, 1.2),\n",
        "                                            hue=0.25\n",
        "                                            ),\n",
        "                              T.RandomAffine(5, translate=(0.01, 0.1)),\n",
        "                              T.ToTensor(),\n",
        "                              T.Normalize(mean=[0.485, 0.456, 0.406],\n",
        "                                          std=[0.229, 0.224, 0.225])\n",
        "                        ])\n",
        "\n",
        "train_dataset = GTSRB(train_files, transform=train_transformations)\n",
        "\n",
        "train_dataloader = DataLoader(train_dataset, batch_size=32, shuffle=True, \n",
        "                             collate_fn=train_dataset.collate_fn)"
      ],
      "metadata": {
        "id": "Yv5mNRulIJmf"
      },
      "execution_count": 17,
      "outputs": []
    },
    {
      "cell_type": "code",
      "source": [
        "model = SignClassifier(batch_norm=True).to(device)\n",
        "criterion = model.compute_metrics\n",
        "optimizer = optim.Adam(model.parameters(), lr=1e-3)\n",
        "n_epochs = 50"
      ],
      "metadata": {
        "id": "XxhDkyYjPyeJ"
      },
      "execution_count": 18,
      "outputs": []
    },
    {
      "cell_type": "code",
      "source": [
        "for epoch in range(1, n_epochs + 1):\n",
        "    train_epoch_losses, train_epoch_accuracies = [], []\n",
        "    for batch in train_dataloader:\n",
        "        loss, accuracy = train_batch(model, batch, optimizer, criterion)\n",
        "        train_epoch_losses.append(loss)\n",
        "        train_epoch_accuracies.append(accuracy)\n",
        "    \n",
        "    val_epoch_losses, val_epoch_accuracies = [], []\n",
        "    for batch in val_dataloader:\n",
        "        loss, accuracy = validate_batch(model, batch, criterion)\n",
        "        val_epoch_losses.append(loss)\n",
        "        val_epoch_accuracies.append(accuracy)\n",
        "    \n",
        "    train_accuracy = np.mean(train_epoch_accuracies)\n",
        "    val_accuracy = np.mean(val_epoch_accuracies)\n",
        "    \n",
        "    accuracies['With Augmentation - With Batch Normalization']\\\n",
        "              ['train'].append(train_accuracy)\n",
        "    accuracies['With Augmentation - With Batch Normalization']\\\n",
        "              ['val'].append(val_accuracy)\n",
        "\n",
        "    print(f\"EPOCH: {epoch}\\t\"\n",
        "          f\"train_loss: {np.mean(train_epoch_losses):.2f}\\t\"\n",
        "          f\"train_accuracy: {train_accuracy:.2f}\\t\"\n",
        "          f\"val_loss: {np.mean(val_epoch_losses):.2f}\\t\"\n",
        "          f\"val_accuracy: {val_accuracy:.2f}\")"
      ],
      "metadata": {
        "colab": {
          "base_uri": "https://localhost:8080/"
        },
        "id": "YhUQX7ntP0sI",
        "outputId": "ff9d501a-4a40-4862-9f73-8a6dae9b8306"
      },
      "execution_count": 19,
      "outputs": [
        {
          "output_type": "stream",
          "name": "stdout",
          "text": [
            "EPOCH: 1\ttrain_loss: 1.86\ttrain_accuracy: 0.46\tval_loss: 0.98\tval_accuracy: 0.71\n",
            "EPOCH: 2\ttrain_loss: 0.70\ttrain_accuracy: 0.77\tval_loss: 0.76\tval_accuracy: 0.79\n",
            "EPOCH: 3\ttrain_loss: 0.50\ttrain_accuracy: 0.84\tval_loss: 0.33\tval_accuracy: 0.90\n",
            "EPOCH: 4\ttrain_loss: 0.40\ttrain_accuracy: 0.87\tval_loss: 0.46\tval_accuracy: 0.87\n",
            "EPOCH: 5\ttrain_loss: 0.34\ttrain_accuracy: 0.89\tval_loss: 0.51\tval_accuracy: 0.86\n",
            "EPOCH: 6\ttrain_loss: 0.29\ttrain_accuracy: 0.90\tval_loss: 0.30\tval_accuracy: 0.92\n",
            "EPOCH: 7\ttrain_loss: 0.27\ttrain_accuracy: 0.91\tval_loss: 0.55\tval_accuracy: 0.86\n",
            "EPOCH: 8\ttrain_loss: 0.24\ttrain_accuracy: 0.92\tval_loss: 0.22\tval_accuracy: 0.94\n",
            "EPOCH: 9\ttrain_loss: 0.23\ttrain_accuracy: 0.92\tval_loss: 0.25\tval_accuracy: 0.92\n",
            "EPOCH: 10\ttrain_loss: 0.21\ttrain_accuracy: 0.93\tval_loss: 0.25\tval_accuracy: 0.93\n",
            "EPOCH: 11\ttrain_loss: 0.20\ttrain_accuracy: 0.93\tval_loss: 0.30\tval_accuracy: 0.92\n",
            "EPOCH: 12\ttrain_loss: 0.19\ttrain_accuracy: 0.94\tval_loss: 0.21\tval_accuracy: 0.94\n",
            "EPOCH: 13\ttrain_loss: 0.18\ttrain_accuracy: 0.94\tval_loss: 0.22\tval_accuracy: 0.93\n",
            "EPOCH: 14\ttrain_loss: 0.18\ttrain_accuracy: 0.94\tval_loss: 0.34\tval_accuracy: 0.91\n",
            "EPOCH: 15\ttrain_loss: 0.16\ttrain_accuracy: 0.95\tval_loss: 0.24\tval_accuracy: 0.93\n",
            "EPOCH: 16\ttrain_loss: 0.16\ttrain_accuracy: 0.95\tval_loss: 0.16\tval_accuracy: 0.95\n",
            "EPOCH: 17\ttrain_loss: 0.15\ttrain_accuracy: 0.95\tval_loss: 0.23\tval_accuracy: 0.94\n",
            "EPOCH: 18\ttrain_loss: 0.15\ttrain_accuracy: 0.95\tval_loss: 0.40\tval_accuracy: 0.91\n",
            "EPOCH: 19\ttrain_loss: 0.15\ttrain_accuracy: 0.95\tval_loss: 0.15\tval_accuracy: 0.95\n",
            "EPOCH: 20\ttrain_loss: 0.15\ttrain_accuracy: 0.95\tval_loss: 0.16\tval_accuracy: 0.95\n",
            "EPOCH: 21\ttrain_loss: 0.13\ttrain_accuracy: 0.96\tval_loss: 0.26\tval_accuracy: 0.94\n",
            "EPOCH: 22\ttrain_loss: 0.13\ttrain_accuracy: 0.96\tval_loss: 0.20\tval_accuracy: 0.95\n",
            "EPOCH: 23\ttrain_loss: 0.13\ttrain_accuracy: 0.96\tval_loss: 0.33\tval_accuracy: 0.92\n",
            "EPOCH: 24\ttrain_loss: 0.13\ttrain_accuracy: 0.96\tval_loss: 0.19\tval_accuracy: 0.95\n",
            "EPOCH: 25\ttrain_loss: 0.12\ttrain_accuracy: 0.96\tval_loss: 0.08\tval_accuracy: 0.98\n",
            "EPOCH: 26\ttrain_loss: 0.12\ttrain_accuracy: 0.96\tval_loss: 0.20\tval_accuracy: 0.95\n",
            "EPOCH: 27\ttrain_loss: 0.12\ttrain_accuracy: 0.96\tval_loss: 0.11\tval_accuracy: 0.96\n",
            "EPOCH: 28\ttrain_loss: 0.11\ttrain_accuracy: 0.96\tval_loss: 0.07\tval_accuracy: 0.98\n",
            "EPOCH: 29\ttrain_loss: 0.11\ttrain_accuracy: 0.96\tval_loss: 0.13\tval_accuracy: 0.96\n",
            "EPOCH: 30\ttrain_loss: 0.11\ttrain_accuracy: 0.96\tval_loss: 0.21\tval_accuracy: 0.95\n",
            "EPOCH: 31\ttrain_loss: 0.11\ttrain_accuracy: 0.96\tval_loss: 0.14\tval_accuracy: 0.96\n",
            "EPOCH: 32\ttrain_loss: 0.11\ttrain_accuracy: 0.96\tval_loss: 0.07\tval_accuracy: 0.98\n",
            "EPOCH: 33\ttrain_loss: 0.11\ttrain_accuracy: 0.97\tval_loss: 0.11\tval_accuracy: 0.97\n",
            "EPOCH: 34\ttrain_loss: 0.10\ttrain_accuracy: 0.97\tval_loss: 0.13\tval_accuracy: 0.96\n",
            "EPOCH: 35\ttrain_loss: 0.10\ttrain_accuracy: 0.97\tval_loss: 0.11\tval_accuracy: 0.97\n",
            "EPOCH: 36\ttrain_loss: 0.10\ttrain_accuracy: 0.97\tval_loss: 0.11\tval_accuracy: 0.97\n",
            "EPOCH: 37\ttrain_loss: 0.09\ttrain_accuracy: 0.97\tval_loss: 0.12\tval_accuracy: 0.97\n",
            "EPOCH: 38\ttrain_loss: 0.09\ttrain_accuracy: 0.97\tval_loss: 0.08\tval_accuracy: 0.97\n",
            "EPOCH: 39\ttrain_loss: 0.10\ttrain_accuracy: 0.97\tval_loss: 0.08\tval_accuracy: 0.98\n",
            "EPOCH: 40\ttrain_loss: 0.09\ttrain_accuracy: 0.97\tval_loss: 0.04\tval_accuracy: 0.99\n",
            "EPOCH: 41\ttrain_loss: 0.09\ttrain_accuracy: 0.97\tval_loss: 0.12\tval_accuracy: 0.96\n",
            "EPOCH: 42\ttrain_loss: 0.09\ttrain_accuracy: 0.97\tval_loss: 0.10\tval_accuracy: 0.97\n",
            "EPOCH: 43\ttrain_loss: 0.09\ttrain_accuracy: 0.97\tval_loss: 0.10\tval_accuracy: 0.97\n",
            "EPOCH: 44\ttrain_loss: 0.09\ttrain_accuracy: 0.97\tval_loss: 0.09\tval_accuracy: 0.97\n",
            "EPOCH: 45\ttrain_loss: 0.09\ttrain_accuracy: 0.97\tval_loss: 0.06\tval_accuracy: 0.98\n",
            "EPOCH: 46\ttrain_loss: 0.09\ttrain_accuracy: 0.97\tval_loss: 0.14\tval_accuracy: 0.96\n",
            "EPOCH: 47\ttrain_loss: 0.08\ttrain_accuracy: 0.97\tval_loss: 0.13\tval_accuracy: 0.97\n",
            "EPOCH: 48\ttrain_loss: 0.09\ttrain_accuracy: 0.97\tval_loss: 0.10\tval_accuracy: 0.97\n",
            "EPOCH: 49\ttrain_loss: 0.08\ttrain_accuracy: 0.97\tval_loss: 0.09\tval_accuracy: 0.98\n",
            "EPOCH: 50\ttrain_loss: 0.08\ttrain_accuracy: 0.97\tval_loss: 0.08\tval_accuracy: 0.98\n"
          ]
        }
      ]
    },
    {
      "cell_type": "markdown",
      "source": [
        "# Compare the result"
      ],
      "metadata": {
        "id": "itDCC16bMzG5"
      }
    },
    {
      "cell_type": "code",
      "source": [
        "fig, ax = plt.subplots(nrows=1, ncols=3, figsize=(25, 5))\n",
        "\n",
        "ax[0].plot(accuracies['Without Augmentation - Without Batch Normalization']['train'])\n",
        "ax[0].plot(accuracies['Without Augmentation - Without Batch Normalization']['val'],\n",
        "           linestyle='dashed')\n",
        "ax[0].grid(True)\n",
        "ax[0].legend(['Training Accuracy', 'Validation Accuracy'])\n",
        "ax[0].set(title=\"Aug: No\\nBatch Norm: No\")\n",
        "\n",
        "ax[1].plot(accuracies['Without Augmentation - With Batch Normalization']['train'])\n",
        "ax[1].plot(accuracies['Without Augmentation - With Batch Normalization']['val'],\n",
        "           linestyle='dashed')\n",
        "ax[1].grid(True)\n",
        "ax[1].legend(['Training Accuracy', 'Validation Accuracy'])\n",
        "ax[1].set(title=\"Aug: No\\nBatch Norm: Yes\")\n",
        "\n",
        "ax[2].plot(accuracies['With Augmentation - With Batch Normalization']['train'])\n",
        "ax[2].plot(accuracies['With Augmentation - With Batch Normalization']['val'],\n",
        "           linestyle='dashed')\n",
        "ax[2].grid(True)\n",
        "ax[2].legend(['Training Accuracy', 'Validation Accuracy'])\n",
        "ax[2].set(title=\"Aug: Yes\\nBatch Norm: Yes\");"
      ],
      "metadata": {
        "colab": {
          "base_uri": "https://localhost:8080/",
          "height": 347
        },
        "id": "YMGAxhkSP4dg",
        "outputId": "ee247c1b-cee9-4a8d-b8be-951307c009b0"
      },
      "execution_count": 27,
      "outputs": [
        {
          "output_type": "display_data",
          "data": {
            "image/png": "[encoded data removed]",
            "text/plain": [
              "<Figure size 1800x360 with 3 Axes>"
            ]
          },
          "metadata": {
            "needs_background": "light"
          }
        }
      ]
    },
    {
      "cell_type": "markdown",
      "source": [
        "# Conclusion\n",
        "While utilizing batch normalization boosts the model's accuracy considerably, it still suffers from overfitting. By implementing data augmentation in addition we can tackle the overfitting problem."
      ],
      "metadata": {
        "id": "9zxT26gUPuqp"
      }
    },
    {
      "cell_type": "code",
      "source": [
        ""
      ],
      "metadata": {
        "id": "V_46FZIKOPjR"
      },
      "execution_count": null,
      "outputs": []
    }
  ]
}