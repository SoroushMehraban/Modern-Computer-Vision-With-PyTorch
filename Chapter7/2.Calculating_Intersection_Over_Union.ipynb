{
  "nbformat": 4,
  "nbformat_minor": 0,
  "metadata": {
    "colab": {
      "name": "2.Calculating_Intersection_Over_Union.ipynb",
      "provenance": []
    },
    "kernelspec": {
      "name": "python3",
      "display_name": "Python 3"
    },
    "language_info": {
      "name": "python"
    }
  },
  "cells": [
    {
      "cell_type": "code",
      "execution_count": null,
      "metadata": {
        "id": "rwr6lEbJd3N8"
      },
      "outputs": [],
      "source": [
        "def get_iou(box1, box2, epsilon=1e-5):\n",
        "    \"\"\"\n",
        "    Calculatse Intersection over Union (IoU) of two boxes.\n",
        "    :param box1: The first box which is a list like [x1, y1, x2, y2]\n",
        "    :param box2: The second box which is a list like [x1, y1, x2, y2]\n",
        "    :param epsilon: a little value to avoid zero division (in rare scenarios)\n",
        "    :return: IoU\n",
        "    \"\"\"\n",
        "    x1 = max(box1[0], box2[0])\n",
        "    y1 = max(box1[1], box2[1])\n",
        "\n",
        "    x2 = min(box1[2], box2[2])\n",
        "    y2 = min(box1[3], box2[3])\n",
        "\n",
        "    width = (x2 - x1)\n",
        "    height = (y2 - y1)\n",
        "\n",
        "    if width < 0 or height < 0:\n",
        "        return 0\n",
        "\n",
        "    intersection = width * height\n",
        "    box1_area = (box1[2] - box1[0]) * (box1[3] - box1[1])\n",
        "    box2_area = (box2[2] - box2[0]) * (box2[3] - box2[1])\n",
        "\n",
        "    union = box1_area + box2_area - intersection\n",
        "\n",
        "    return intersection - (union + epsilon)"
      ]
    }
  ]
}