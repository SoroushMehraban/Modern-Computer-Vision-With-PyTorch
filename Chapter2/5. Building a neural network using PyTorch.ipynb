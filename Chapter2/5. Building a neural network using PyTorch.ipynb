{
 "cells": [
  {
   "cell_type": "code",
   "execution_count": 1,
   "metadata": {},
   "outputs": [],
   "source": [
    "import torch\n",
    "import torch.nn as nn\n",
    "from torch.optim import SGD\n",
    "import matplotlib.pyplot as plt"
   ]
  },
  {
   "cell_type": "markdown",
   "metadata": {},
   "source": [
    "In this practice dataset, y equals the total of the x values."
   ]
  },
  {
   "cell_type": "code",
   "execution_count": 2,
   "metadata": {},
   "outputs": [],
   "source": [
    "x = [[1, 2], [3, 4], [5, 6], [7, 8]]\n",
    "y = [[3], [7], [11], [15]]"
   ]
  },
  {
   "cell_type": "code",
   "execution_count": 3,
   "metadata": {},
   "outputs": [],
   "source": [
    "X = torch.tensor(x).float()\n",
    "Y = torch.tensor(y).float()"
   ]
  },
  {
   "cell_type": "markdown",
   "metadata": {},
   "source": [
    "It is good practice to have tensor objects as floats or long ints, as they will be multiplied by decimal values (weights) anyway"
   ]
  },
  {
   "cell_type": "code",
   "execution_count": 4,
   "metadata": {},
   "outputs": [],
   "source": [
    "device = 'cuda' if torch.cuda.is_available() else 'cpu'\n",
    "X = X.to(device)\n",
    "Y = Y.to(device)"
   ]
  },
  {
   "cell_type": "code",
   "execution_count": 5,
   "metadata": {},
   "outputs": [],
   "source": [
    "class MyNeuralNet(nn.Module):\n",
    "    def __init__(self):\n",
    "        super().__init__()\n",
    "        \n",
    "        self.input_to_hidden_layer = nn.Linear(2, 8)\n",
    "        self.hidden_layer_activation = nn.ReLU()\n",
    "        self.hidden_to_output_layer = nn.Linear(8, 1)\n",
    "        \n",
    "    def forward(self, x):\n",
    "        x = self.input_to_hidden_layer(x)\n",
    "        x = self.hidden_layer_activation(x)\n",
    "        x = self.hidden_to_output_layer(x)\n",
    "        return x"
   ]
  },
  {
   "cell_type": "code",
   "execution_count": 6,
   "metadata": {},
   "outputs": [],
   "source": [
    "my_net = MyNeuralNet().to(device)"
   ]
  },
  {
   "cell_type": "code",
   "execution_count": 7,
   "metadata": {},
   "outputs": [
    {
     "data": {
      "text/plain": [
       "Parameter containing:\n",
       "tensor([[ 0.4520, -0.5129],\n",
       "        [ 0.2695,  0.6287],\n",
       "        [-0.4445,  0.6534],\n",
       "        [-0.3998, -0.2682],\n",
       "        [-0.2669, -0.4572],\n",
       "        [-0.6380, -0.1624],\n",
       "        [ 0.5027,  0.0030],\n",
       "        [ 0.3467,  0.1211]], device='cuda:0', requires_grad=True)"
      ]
     },
     "execution_count": 7,
     "metadata": {},
     "output_type": "execute_result"
    }
   ],
   "source": [
    "my_net.input_to_hidden_layer.weight"
   ]
  },
  {
   "cell_type": "markdown",
   "metadata": {},
   "source": [
    "**Seed**: `torch.manual_seed(seed_value)`"
   ]
  },
  {
   "cell_type": "code",
   "execution_count": 8,
   "metadata": {},
   "outputs": [
    {
     "name": "stdout",
     "output_type": "stream",
     "text": [
      "Parameter containing:\n",
      "tensor([[ 0.4520, -0.5129],\n",
      "        [ 0.2695,  0.6287],\n",
      "        [-0.4445,  0.6534],\n",
      "        [-0.3998, -0.2682],\n",
      "        [-0.2669, -0.4572],\n",
      "        [-0.6380, -0.1624],\n",
      "        [ 0.5027,  0.0030],\n",
      "        [ 0.3467,  0.1211]], device='cuda:0', requires_grad=True)\n",
      "---\n",
      "Parameter containing:\n",
      "tensor([ 0.4768, -0.0428,  0.2782, -0.6811,  0.3360,  0.6681,  0.1072,  0.2766],\n",
      "       device='cuda:0', requires_grad=True)\n",
      "---\n",
      "Parameter containing:\n",
      "tensor([[-0.1241,  0.0779,  0.2495, -0.0796,  0.1052, -0.3070, -0.1047,  0.1341]],\n",
      "       device='cuda:0', requires_grad=True)\n",
      "---\n",
      "Parameter containing:\n",
      "tensor([0.1540], device='cuda:0', requires_grad=True)\n",
      "---\n"
     ]
    }
   ],
   "source": [
    "for parameter in my_net.parameters():\n",
    "    print(parameter)\n",
    "    print('---')"
   ]
  },
  {
   "cell_type": "markdown",
   "metadata": {},
   "source": [
    "## Loss Function\n",
    "**Prominent ones:**\n",
    "- `MSELoss`: Mean Squared Error\n",
    "- `CrossEntroppyLoss`: For multinomial classfication\n",
    "- `BSELoss`: Binary cross-entropy loss"
   ]
  },
  {
   "cell_type": "code",
   "execution_count": 9,
   "metadata": {},
   "outputs": [],
   "source": [
    "loss_func = nn.MSELoss()"
   ]
  },
  {
   "cell_type": "code",
   "execution_count": 10,
   "metadata": {},
   "outputs": [
    {
     "data": {
      "text/plain": [
       "tensor(81.4286, device='cuda:0', grad_fn=<MseLossBackward>)"
      ]
     },
     "execution_count": 10,
     "metadata": {},
     "output_type": "execute_result"
    }
   ],
   "source": [
    "Y_predicted = my_net(X)\n",
    "loss_value = loss_func(Y_predicted, Y) # First prediction then the ground truth\n",
    "loss_value"
   ]
  },
  {
   "cell_type": "markdown",
   "metadata": {},
   "source": [
    "## Optimizer"
   ]
  },
  {
   "cell_type": "code",
   "execution_count": 11,
   "metadata": {},
   "outputs": [],
   "source": [
    "opt = SGD(my_net.parameters(), lr=0.001)"
   ]
  },
  {
   "cell_type": "code",
   "execution_count": 12,
   "metadata": {},
   "outputs": [],
   "source": [
    "loss_history = []\n",
    "for epoch in range(50):\n",
    "    opt.zero_grad() # flush the previous epoch's gradients\n",
    "    loss_value = loss_func(my_net(X), Y)\n",
    "    loss_value.backward()\n",
    "    opt.step() # Updates the weights based on the gradients computed\n",
    "    loss_history.append(float(loss_value))"
   ]
  },
  {
   "cell_type": "code",
   "execution_count": 13,
   "metadata": {},
   "outputs": [
    {
     "data": {
      "image/png": "[encoded data removed]",
      "text/plain": [
       "<Figure size 432x288 with 1 Axes>"
      ]
     },
     "metadata": {
      "needs_background": "light"
     },
     "output_type": "display_data"
    }
   ],
   "source": [
    "plt.plot(loss_history)\n",
    "plt.title(\"Loss variation over increasing epochs\")\n",
    "plt.xlabel(\"epochs\")\n",
    "plt.ylabel(\"loss value\");"
   ]
  },
  {
   "cell_type": "code",
   "execution_count": null,
   "metadata": {},
   "outputs": [],
   "source": []
  }
 ],
 "metadata": {
  "kernelspec": {
   "display_name": "Python 3",
   "language": "python",
   "name": "python3"
  },
  "language_info": {
   "codemirror_mode": {
    "name": "ipython",
    "version": 3
   },
   "file_extension": ".py",
   "mimetype": "text/x-python",
   "name": "python",
   "nbconvert_exporter": "python",
   "pygments_lexer": "ipython3",
   "version": "3.8.7"
  }
 },
 "nbformat": 4,
 "nbformat_minor": 4
}
